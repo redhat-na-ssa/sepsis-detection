{
 "cells": [
  {
   "cell_type": "markdown",
   "metadata": {
    "collapsed": true,
    "pycharm": {
     "name": "#%% md\n"
    }
   },
   "source": [
    "# Data Engineering Notebook\n",
    "\n",
    "Explore and understand the data\n",
    "\n",
    "# Import packages"
   ]
  },
  {
   "cell_type": "code",
   "execution_count": null,
   "metadata": {
    "collapsed": false,
    "pycharm": {
     "name": "#%%\n"
    }
   },
   "outputs": [],
   "source": [
    "# data ingestion\n",
    "import urllib.request\n",
    "import os\n",
    "import zipfile\n",
    "\n",
    "# data manipulation\n",
    "import pandas as pd\n",
    "import numpy as np\n",
    "\n",
    "# data visualization\n",
    "import seaborn as sns\n",
    "import matplotlib.pyplot as plt\n",
    "# Add directory above current directory to path\n",
    "import sys; sys.path.insert(0, '..')\n",
    "from submodules.fetch_data import fetch_data\n",
    "from submodules.load_data import load_data\n",
    "from pandas.plotting import scatter_matrix\n",
    "from IPython.display import Image\n",
    "\n",
    "\n",
    "# data splitting\n",
    "from sklearn.model_selection import train_test_split"
   ]
  },
  {
   "cell_type": "markdown",
   "metadata": {
    "collapsed": false,
    "pycharm": {
     "name": "#%% md\n"
    }
   },
   "source": [
    "# Overview\n",
    "\n",
    "1. Fetch and write the data for updates using urllib, zipfile, and os for OS agnostic handling\n",
    "1. Load the data as a Dataframe using Pandas\n",
    "1. Explore the Dataframe with Pandas\n",
    "1. Split the data into train and test sets with Scikit-Learn\n",
    "1. Visualize the train data with Matplotlib and Seaborn\n",
    "1. Explore correlation among features\n",
    "1. Feature down selection\n",
    "\n",
    "# Download the data\n",
    "In a working environment, data is available in a relational database or data store spread\n",
    "across multiple tables, documents and files. Getting authorized access to the data is a part of this step.\n",
    "\n",
    "For this example, the data has been downloaded and extracted locally from Kaggle.\n",
    "Kaggle data source: https://www.kaggle.com/maxskoryk/datasepsis"
   ]
  },
  {
   "cell_type": "markdown",
   "metadata": {
    "collapsed": false,
    "pycharm": {
     "name": "#%% md\n"
    }
   },
   "source": [
    "# Fetch the data"
   ]
  },
  {
   "cell_type": "code",
   "execution_count": null,
   "metadata": {
    "collapsed": false,
    "pycharm": {
     "name": "#%%.d\n"
    }
   },
   "outputs": [],
   "source": [
    "# fetch the data using a python function, commented out b/c cannot use with Kaggle source\n",
    "#fetch_data()"
   ]
  },
  {
   "cell_type": "markdown",
   "metadata": {
    "collapsed": false,
    "pycharm": {
     "name": "#%% md\n"
    }
   },
   "source": [
    "# Load the data\n",
    "> using Pandas\n",
    "\n",
    "Load semi-colon separated data from disk"
   ]
  },
  {
   "cell_type": "code",
   "execution_count": null,
   "metadata": {
    "collapsed": false,
    "pycharm": {
     "name": "#%%\n"
    }
   },
   "outputs": [],
   "source": [
    "# load the data using a python function\n",
    "#data = load_data()\n",
    "\n",
    "# without using a python function\n",
    "csv_path = \"../data/raw/dataSepsis.csv\"\n",
    "data = pd.read_csv(csv_path, sep=\";\")"
   ]
  },
  {
   "cell_type": "markdown",
   "metadata": {
    "collapsed": false,
    "pycharm": {
     "name": "#%% md\n"
    }
   },
   "source": [
    "# Explore the data\n",
    "\n",
    "Based on the attributes from the vital signs and laboratory values, below are target attributes to indicate Sepsis:\n",
    "\n",
    "# Dataset\n",
    "\n",
    "## Datapoints\n",
    "\n",
    "Vital signs (columns 1-8)\n",
    "1. **HR - Heart rate (beats per minute)**\n",
    "1. **Temp - Temperature (Deg C)**\n",
    "1. **SBP - Systolic BP (mm Hg)**\n",
    "1. DBP - Diastolic BP (mm Hg)\n",
    "1. **MAP - Mean arterial pressure (mm Hg)**\n",
    "1. **Resp - Respiration rate (breaths per minute)**\n",
    "1. O2Sat - Pulse oximetry (%)\n",
    "1. EtCO2 - End tidal carbon dioxide (mm Hg)\n",
    "\n",
    "Laboratory values (columns 9-34)\n",
    "1. BaseExcess - Measure of excess bicarbonate (mmol/L)\n",
    "1. HCO3 - Bicarbonate (mmol/L)\n",
    "1. FiO2 - Fraction of inspired oxygen (%)\n",
    "1. pH - N/A\n",
    "1. PaCO2 - Partial pressure of carbon dioxide from arterial blood (mm Hg)\n",
    "1. SaO2 - Oxygen saturation from arterial blood (%)\n",
    "1. AST - Aspartate transaminase (IU/L)\n",
    "1. BUN - Blood urea nitrogen (mg/dL)\n",
    "1. Alkalinephos - Alkaline phosphatase (IU/L)\n",
    "1. Calcium - (mg/dL)\n",
    "1. Chloride - (mmol/L)\n",
    "1. Creatinine - (mg/dL)\n",
    "1. Bilirubin_direct - Bilirubin direct (mg/dL)\n",
    "1. Glucose - Serum glucose (mg/dL)\n",
    "1. Lactate - Lactic acid (mg/dL)\n",
    "1. Magnesium - (mmol/dL)\n",
    "1. Phosphate - (mg/dL)\n",
    "1. Potassium - (mmol/L)\n",
    "1. Bilirubintotal - Total bilirubin (mg/dL)\n",
    "1. TroponinI - Troponin I (ng/mL)\n",
    "1. Hct - Hematocrit (%)\n",
    "1. Hgb - Hemoglobin (g/dL)\n",
    "1. PTT - partial thromboplastin time (seconds)\n",
    "1. **WBC - Leukocyte count (count10^3/µL)**\n",
    "1. Fibrinogen - (mg/dL)\n",
    "1. **Platelets - (count10^3/µL)**\n",
    "\n",
    "Demographics (columns 35-40)\n",
    "1. Age - Years (100 for patients 90 or above)\n",
    "1. Gender - Female (0) or Male (1)\n",
    "1. Unit1 - Administrative identifier for ICU unit (MICU)\n",
    "1. Unit2 - Administrative identifier for ICU unit (SICU)\n",
    "1. HospAdmTime - Hours between hospital admit and ICU admit\n",
    "1. ICULOS - ICU length-of-stay (hours since ICU admit)\n",
    "\n",
    "Outcome (column 41)\n",
    "1. SepsisLabel - For sepsis patients, SepsisLabel is 1\n",
    "\n",
    "## Definition of Diseases\n",
    "In accordance with \"Early Recognition and Management of Sepsis in Adults: The First Six Hours\""
   ]
  },
  {
   "cell_type": "code",
   "execution_count": null,
   "metadata": {
    "collapsed": false,
    "pycharm": {
     "name": "#%%\n"
    }
   },
   "outputs": [],
   "source": [
    "Image(filename='../images/SIRSvsqSOFA.jpg')"
   ]
  },
  {
   "cell_type": "markdown",
   "metadata": {
    "collapsed": false,
    "pycharm": {
     "name": "#%% md\n"
    }
   },
   "source": [
    "### Systemic inflammatory response syndrome (SIRS)\n",
    "- 2 or more are met:\n",
    "    - Body temperature > 38.5°C or < 35.0°C\n",
    "    - Heart rate > 90 beats per minute\n",
    "    - Respiratory rate > 20 breaths per minute or arterial CO2 tension < 32 mm Hg or need for mechanical ventilation\n",
    "    - White blood cell count > 12,000/mm3 or < 4,000/mm3 or immature forms > 10%\n",
    "\n",
    "### Sepsis\n",
    "- Systemic inflammatory response syndrome and documented infection\n",
    "### Severe sepsis\n",
    "- Sepsis and at least one sign of organ hypoperfusion or organ dysfunction:\n",
    "    - Areas of mottled skin\n",
    "    - Capillary refilling time ≥ 3 s\n",
    "    - Urinary output < 0.5 mL/kg for at least 1 h or renal replacement therapy\n",
    "    - Lactates > 2 mmol/L\n",
    "    - Abrupt change in mental status or abnormal electroencephalogram\n",
    "    - Platelet counts < 100,000/mL or disseminated intravascular coagulation\n",
    "    - Acute lung injury—acute respiratory distress syndrome\n",
    "    - Cardiac dysfunction (echocardiography)\n",
    "### Septic shock\n",
    "- Severe sepsis and one of:\n",
    "    - Systemic mean blood pressure of < 60 mm Hg (< 80 mm Hg if previous hypertension) after 20–30 mL/kg starch or 40–60 mL/kg serum saline, or pulmonary capillary wedge pressure between 12 and 20 mm Hg\n",
    "    - Need for dopamine > 5 μg/kg per min or norepinephrine or epinephrine < 0.25 μg/kg per min to maintain mean blood pressure above 60 mm Hg (> 80 mm Hg if previous hypertension)\n",
    "### Refractory septic shock\n",
    "- Need for dopamine > 15 μg/kg per min or norepinephrine or epinephrine > 0.25 μg/kg per min to maintain mean blood pressure above 60 mm Hg (> 80 mm Hg if previous hypertension)\n",
    "\n",
    "Patient with suspicious infection\n",
    "> Definitions for SIRS and qSOFA. SIRS: systemic inflammatory response syndrome; qSOFA: Sequential Organ Failure Assessment; WBC: white blood cell.\n",
    "\n",
    "# References\n",
    "1. https://www.ncbi.nlm.nih.gov/pmc/articles/PMC6304323/\n",
    "1. https://www.aafp.org/afp/2013/0701/p44.html\n",
    "1. https://www.kaggle.com/maxskoryk/datasepsis\n",
    "1. https://www.nursingcenter.com/ncblog/march-2017/elevated-lactate-%E2%80%93-not-just-a-marker-for-sepsis-an\n",
    "1. https://unitslab.com/node/74\n",
    "\n",
    "# What does the raw data look like?\n",
    "\n",
    "Looking for:\n",
    "- NaN (null) values, not good for training a model on\n",
    "- Understand the attributes, the data values and how they align to the goal\n",
    "- The types of data (numbers, categories, etc.)\n",
    "- The range of data values (whole numbers, decimals, etc.)"
   ]
  },
  {
   "cell_type": "code",
   "execution_count": null,
   "metadata": {
    "collapsed": false,
    "pycharm": {
     "name": "#%%\n"
    }
   },
   "outputs": [],
   "source": [
    "# first 10 rows\n",
    "data.head(10)"
   ]
  },
  {
   "cell_type": "markdown",
   "metadata": {
    "collapsed": false,
    "pycharm": {
     "name": "#%% md\n"
    }
   },
   "source": [
    "## Forward Action\n",
    "1. need to cleanup NaN values"
   ]
  },
  {
   "cell_type": "markdown",
   "metadata": {
    "collapsed": false,
    "pycharm": {
     "name": "#%% md\n"
    }
   },
   "source": [
    "# What types of columns and data do we have?\n",
    "\n",
    "Looking for:\n",
    "- How many total attributes we have?\n",
    "- What attributes we can rule out?\n",
    "- What attributes might be good for combination?\n",
    "- How many Non-null values each has?\n",
    "    - lower the non-null count, the least likely we can use the column\n",
    "- The types of data (float, int, etc.)?\n",
    "    - the columns (features) we select need to be on the same scale"
   ]
  },
  {
   "cell_type": "code",
   "execution_count": null,
   "metadata": {
    "collapsed": false,
    "pycharm": {
     "name": "#%%\n"
    }
   },
   "outputs": [],
   "source": [
    "data.info()"
   ]
  },
  {
   "cell_type": "markdown",
   "metadata": {
    "collapsed": false,
    "pycharm": {
     "name": "#%% md\n"
    }
   },
   "source": [
    "## Forward Action\n",
    "1. drop the demographic/non-biological data\n",
    "1. explore the null entries in the attributes"
   ]
  },
  {
   "cell_type": "markdown",
   "metadata": {
    "collapsed": false
   },
   "source": [
    "# What columns have low entries vs high entries?\n",
    "> 20% used below is not an academic calculation\n",
    "\n",
    "Looking for:\n",
    "- Columns with fewer than 7k entries (under-repesented <20%)\n",
    "- Columns with more than 7k entries (representative >20%)\n",
    "- Later in the notebook, is there correlation between under-repesented attributes and representative attributes"
   ]
  },
  {
   "cell_type": "code",
   "execution_count": null,
   "metadata": {
    "collapsed": false,
    "pycharm": {
     "name": "#%%\n"
    }
   },
   "outputs": [],
   "source": [
    "data.count(axis=0).sort_values(ascending=True)"
   ]
  },
  {
   "cell_type": "markdown",
   "metadata": {
    "collapsed": false
   },
   "source": [
    "## Forward Action\n",
    "1. look for correlation among under-represented data values\n",
    "    1. Bilirubin_direct\n",
    "    1. EtCO2\n",
    "    1. Fibrinogen\n",
    "    1. TroponinI\n",
    "    1. Lactate\n",
    "    1. SaO2\n",
    "    1. FiO2\n",
    "    1. BaseExcess\n",
    "    1. PaCO2\n",
    "    1. pH"
   ]
  },
  {
   "cell_type": "markdown",
   "metadata": {
    "collapsed": false,
    "pycharm": {
     "name": "#%% md\n"
    }
   },
   "source": [
    "# Calculus measures on the data\n",
    "- Null values are ignored in the summary\n",
    "- Highest number of entries for a column ~ 36k\n",
    "    - likely to consider if it helps indicate the prediction\n",
    "- Lowest number of entries for a column ~1k\n",
    "    - likely to drop because there are too many missing entries to train a model on\n",
    "- Average (mean), minimum (min), maximum (max) are self-explanatory\n",
    "- Standard deviation (std) how dispersed the values are\n",
    "    - normal (Gaussian) distribution follows 68-95-99.7 rule\n",
    "        - 68% of values are within 1 std\n",
    "        - 95% of values are within 2 std\n",
    "        - 99.7% of values are within 3 std\n",
    "- 1st (25%), median (50%), 3rd (75%) quartiles or percentiles, for example:\n",
    "    - 25% of the patients had a temp lower than 36.3°C\n",
    "    - 75% of the patients had a resp higher than 20.5 breaths per minute\n",
    "- min/max\n",
    "    - if min == 0 and max == 1, likely discrete categorical data\n",
    "    - identify ranges for possible feature scaling"
   ]
  },
  {
   "cell_type": "code",
   "execution_count": null,
   "metadata": {
    "collapsed": false,
    "pycharm": {
     "name": "#%%\n"
    }
   },
   "outputs": [],
   "source": [
    "data.describe(include=\"all\").T"
   ]
  },
  {
   "cell_type": "markdown",
   "metadata": {
    "collapsed": false,
    "pycharm": {
     "name": "#%% md\n"
    }
   },
   "source": [
    "## Forward Action\n",
    "1. BaseExcess has a negative entry that could cause errors\n",
    "1. Of the known indicators:\n",
    "    1. Temp - missing ~50% data\n",
    "    1. HR - may need scaling\n",
    "    1. Resp - may need scaling\n",
    "    1. WBC - may need scaling\n",
    "    1. Lactate - look for correlation\n",
    "    1. Platelets - may need scaling\n",
    "    1. MAP - may need scaling"
   ]
  },
  {
   "cell_type": "markdown",
   "metadata": {
    "collapsed": false
   },
   "source": [
    "# Are Sepsis patient entries representative of the real world?\n",
    "Looking for:\n",
    "- How many patients had Sepsis?"
   ]
  },
  {
   "cell_type": "code",
   "execution_count": null,
   "metadata": {
    "collapsed": false,
    "pycharm": {
     "name": "#%%\n"
    }
   },
   "outputs": [],
   "source": [
    "data[\"isSepsis\"].value_counts(normalize=True).to_frame()"
   ]
  },
  {
   "cell_type": "markdown",
   "metadata": {
    "collapsed": false,
    "pycharm": {
     "name": "#%% md\n"
    }
   },
   "source": [
    "The training data is representative of real world Sepsis identification in patience."
   ]
  },
  {
   "cell_type": "markdown",
   "metadata": {
    "collapsed": false,
    "pycharm": {
     "name": "#%% md\n"
    }
   },
   "source": [
    "# Create a Test Dataset\n",
    "Performing this early minimizes generalization and bias you may inadvertently apply to your system.\n",
    "Simply put, a test set of data involves: picking ~20% of the instances randomly and setting them aside.\n",
    "\n",
    "Some considerations for sampling methods that generate the test set:\n",
    "1. you don't want your model to see the entire dataset\n",
    "1. you want to be able to fetch new data for training\n",
    "1. you want to maintain the same percentage of training data against the entire dataset\n",
    "1. you want a representative training dataset (~7% septic positive)\n",
    "\n",
    "https://realpython.com/train-test-split-python-data/"
   ]
  },
  {
   "cell_type": "code",
   "execution_count": null,
   "metadata": {
    "collapsed": false,
    "pycharm": {
     "name": "#%%\n"
    }
   },
   "outputs": [],
   "source": [
    "# drop the isSepsis label from the X_ dataset and store in the y_ dataset\n",
    "# split the whole dataset 15% test and 85% training\n",
    "# random state fixes the randomization so you get the same results each time\n",
    "# Shuffle before the data is split, this is important specifically if any data is order (e.x. by gender)\n",
    "# stratified splitting keeps the proportion of y values trhough the train and test sets and it uses the same calculation y does\n",
    "# the sequence of the X_ than y_ is critical in scoring correctly\n",
    "\n",
    "X_train, X_test, y_train, y_test = \\\n",
    "    train_test_split(data.drop(\"isSepsis\", axis=1),\n",
    "                     data[\"isSepsis\"], test_size=0.15,\n",
    "                     random_state=42, stratify=data[\"isSepsis\"])\n",
    "\n",
    "print(\"Training data: \", X_train.shape)\n",
    "print(\"Training labels: \", y_train.shape)\n",
    "\n",
    "print(\"Testing data: \", X_test.shape)\n",
    "print(\"Testing labels: \", y_test.shape)"
   ]
  },
  {
   "cell_type": "markdown",
   "metadata": {
    "collapsed": false,
    "pycharm": {
     "name": "#%% md\n"
    }
   },
   "source": [
    "# What does the data look like if we plotted each attributes values?"
   ]
  },
  {
   "cell_type": "markdown",
   "metadata": {
    "collapsed": false,
    "pycharm": {
     "name": "#%% md\n"
    }
   },
   "source": [
    "Separate the data categories: vital signs and labs values"
   ]
  },
  {
   "cell_type": "code",
   "execution_count": null,
   "metadata": {
    "collapsed": false,
    "pycharm": {
     "name": "#%%\n"
    }
   },
   "outputs": [],
   "source": [
    "vitals = [\"HR\", # Heart Rate normal adult 60 - 100 beats per minute (bpm)\n",
    "          'O2Sat', # Oxygen saturation normal adult 97% - 100% (%)\n",
    "          'Temp', # Temperature normal 97.8°F/36.5°C - 99°F/37.2°C (°C)\n",
    "          'SBP', # Systolic Blood Pressure normal < 120 mmHg (mm Hg) (indicates how much pressure your blood is exerting against your artery walls when the heart beats.)\n",
    "          'DBP', # beclomethasone dipropionate normal < 80 mmHg (mm Hg) (indicates how much pressure your blood is exerting against your artery walls while the heart is resting between beats.)\n",
    "          'MAP', # Mean Arterial Pressure (mm Hg)\n",
    "          'Resp', # Respiration rate  12<normal<20 breaths / minute (bpm)\n",
    "          \"EtCO2\" # End-tidal CO2 maximum concentration of CO2 at exhalation normal 35 - 45 mmHg (mm Hg)\n",
    "          ]\n",
    "\n",
    "labs = ['BaseExcess', # strong acid to restore pH (mmoI/L)\n",
    "        'Magnesium', # symptoms such as weakness, irritability, cardiac arrhythmia, nausea, and/or diarrhea (mmoI/L)\n",
    "        'Glucose', # blood sugar test (indicates diagnose diabetes, pre-diabetes and gestational diabetes) (mg/dL)\n",
    "        'Alkalinephos', # Alkaline phosphatase (indicates enzyme activity) (IU/L)\n",
    "        'pH', # 0:14 = acidic = lower pH; alkaline = higher\n",
    "        'Chloride', # an electrolyte to balance fluid in cells normal 96-103 ml (indicates blood pressure/pH) (mmoI/L)\n",
    "        'Lactate', # high levels indicate lack of oxygen (hypoxia) or other conditions (indicates sepsis) (mg/dL)\n",
    "        # Respiratory\n",
    "        'HCO3', # Bicarbonate, carbon dioxide in blood (indicates metabolism / resp) (mmoI/L)\n",
    "        'FiO2', # % of concentration of oxygen inhaled (indicates resp) (%)\n",
    "        'PaCO2', # partial pressure of carbon dioxide measured in blood (indicates resp) (mm Hg)\n",
    "        'SaO2', # normal 95-100% oxygen saturation bound to hemoglobin (indicates resp) (%)\n",
    "        # liver\n",
    "        'AST', # aspartate aminotransferase (indicates liver) (IU/L)\n",
    "        'Bilirubin_direct', # conjugated water soluble (indicates liver) (mg/dL)\n",
    "        'Bilirubin_total', # normal 0.1:1.2 mg/dL (indicates liver) (mg/dL)\n",
    "        # kidneys\n",
    "        'BUN', # blood urea nitrogen, nitrogen in the blood (indicates kidneys) (mg/dL)\n",
    "        'Creatinine', # metabolic panel (indicates kidneys) (mg/dL)\n",
    "        'Calcium', # indicates range of conditions bones, heart, nerves, kidneys, and teeth (mg/dL)\n",
    "        'Phosphate', # related to calcium (indicates kidney or diabetes)  (mg/dL)\n",
    "        'Potassium', # electrolyte or metabolism (affected by blood pressure, kidneys, etc.)  (mmoI/L)\n",
    "        # Heart\n",
    "        'TroponinI', # cardiac specific Trenonin I and T (indicates injury to heart muscle)\n",
    "        # Blood\n",
    "        'Hct', # Hematocrit (indicates portion of blood from Red Blood Cell count) (%)\n",
    "        'Hgb', # Hemoglobin apart of Complete Blood Count (CBC) (indicates blood cell count) (g/dL)\n",
    "        'WBC', # White Blood Cell Count (indicates infection, inflammation or disease) (count10^3/µL)\n",
    "        'PTT', # Partial Thromboplastin Time (indicates bleeding or blood clot) (seconds)\n",
    "        'Fibrinogen', # coagulation factor I (indicates bleeding or blood clot or cardiovascular disease) (mg/dL)\n",
    "        'Platelets' # indicates bleeding disorder, a bone marrow disease, or other underlying condition ((count10^3/µL))\n",
    "        ]"
   ]
  },
  {
   "cell_type": "markdown",
   "metadata": {
    "collapsed": false,
    "pycharm": {
     "name": "#%% md\n"
    }
   },
   "source": [
    "Set the theme of your charts for consistency and audience"
   ]
  },
  {
   "cell_type": "code",
   "execution_count": null,
   "metadata": {
    "collapsed": false,
    "pycharm": {
     "name": "#%%\n"
    }
   },
   "outputs": [],
   "source": [
    "# set the plot style\n",
    "sns.set_theme(context=\"notebook\", style=\"ticks\", palette=\"colorblind\")\n",
    "#sns.set_theme(context=\"poster\", style=\"dark\", palette=\"Set2\")\n",
    "#sns.set_theme(context=\"talk\", style=\"whitegrid\", palette=\"tab10\")"
   ]
  },
  {
   "cell_type": "markdown",
   "metadata": {
    "collapsed": false,
    "pycharm": {
     "name": "#%% md\n"
    }
   },
   "source": [
    "## What does the training look like for each grouping of values for vitals, labs, and demographics?\n",
    "\n",
    "### Vital signs\n",
    "Pay attention to clean splits in the charts for isSepsis"
   ]
  },
  {
   "cell_type": "code",
   "execution_count": null,
   "metadata": {
    "collapsed": false,
    "pycharm": {
     "name": "#%%\n"
    }
   },
   "outputs": [],
   "source": [
    "plt.figure(figsize=(18,12))\n",
    "plt.subplots_adjust(hspace = .5)\n",
    "for i, column in enumerate(vitals, 1):\n",
    "    plt.subplot(4,2,i)\n",
    "    # stat = Aggregate statistic to compute in each bin density normalizes counts so that the area of the histogram is 1\n",
    "    # common_norm = False = normalize each histogram independently\n",
    "    # kde = If True, compute a kernel density estimate to smooth the distribution and show on the plot as (one or more) line(s)\n",
    "    sns.histplot(data=X_train, x=column, hue=y_train, stat=\"density\", common_norm=False, bins=60, kde=True)"
   ]
  },
  {
   "cell_type": "markdown",
   "metadata": {
    "collapsed": false,
    "pycharm": {
     "name": "#%% md\n"
    }
   },
   "source": [
    "#### Forward Action\n",
    "1. HR, Temp, MAP, Resp all have clear separation between Septic and non-Septic patients\n",
    "1. SBP and DBP are used to calculate MAP, could drop\n",
    "1. no clear pattern in O2Sat and EtCO2"
   ]
  },
  {
   "cell_type": "markdown",
   "metadata": {
    "collapsed": false,
    "pycharm": {
     "name": "#%% md\n"
    }
   },
   "source": [
    "### Laboratory values\n",
    "Pay attention to clean splits in the charts for isSepsis, remember under-representative data and look for outliers"
   ]
  },
  {
   "cell_type": "code",
   "execution_count": null,
   "metadata": {
    "collapsed": false,
    "pycharm": {
     "name": "#%%\n"
    }
   },
   "outputs": [],
   "source": [
    "plt.figure(figsize=(18,42))\n",
    "plt.subplots_adjust(hspace = .5)\n",
    "for i, column in enumerate(labs, 1):\n",
    "    plt.subplot(13,2,i)\n",
    "    sns.histplot(data=X_train, x=column, hue=y_train, stat=\"density\", bins=60, common_norm=False, kde=True)"
   ]
  },
  {
   "cell_type": "markdown",
   "metadata": {
    "collapsed": false,
    "pycharm": {
     "name": "#%% md\n"
    }
   },
   "source": [
    "#### Forward Action\n",
    "1. BaseExcess, Magnesium, Glucose, Alkalinephos, FiO2, AST, Potassium, TroponinI no clear pattern\n",
    "1. pH, Chloride, Lactate, HCO3, PaCO2, SaO2, BUN, Creatine, Phosphate, WBC, PTT, Fibrinogen have interesting evelations\n",
    "1. Bilirubin_direct (underrepresented) and Bilirubin_total look similar\n",
    "1. Calcium has a strong outlier in Septic patients\n",
    "1. Hct and Hgb have clearn separation\n",
    "1. Platelets have a clear low count for Septic patients"
   ]
  },
  {
   "cell_type": "markdown",
   "metadata": {
    "collapsed": false,
    "pycharm": {
     "name": "#%% md\n"
    }
   },
   "source": [
    "## Is there correlation between numeric values?\n",
    "> uses matplotlib\n",
    "\n",
    "Vital signs\n",
    "- SBP, DBP, MAP\n",
    "Lab values\n",
    "- BaseExcess, pH, Chloride, Lactate, HCO3, PaCO2,\n",
    "- Bilirubin_direct, Bilirubin_total\n",
    "- Hct, Hgb"
   ]
  },
  {
   "cell_type": "code",
   "execution_count": null,
   "metadata": {
    "collapsed": false,
    "pycharm": {
     "name": "#%%\n"
    }
   },
   "outputs": [],
   "source": [
    "corr_features = [\n",
    "               # vitals\n",
    "               \"HR\", # Heart Rate normal adult 60 - 100 beats per minute (bpm)\n",
    "               \"O2Sat\", # Oxygen saturation normal adult 97% - 100% (%)\n",
    "               \"Temp\", # Temperature normal 97.8°F/36.5°C - 99°F/37.2°C (°C)\n",
    "               \"SBP\", # Systolic Blood Pressure normal < 120 mmHg (mm Hg)\n",
    "               \"DBP\", # beclomethasone dipropionate normal < 80 mmHg (mm Hg)\n",
    "               \"MAP\", # Mean Arterial Pressure (mm Hg)\n",
    "               \"Resp\", # Respiration rate  12<normal<20 breaths / minute (bpm)\n",
    "               \"EtCO2\", # End-tidal CO2 maximum concentration of CO2 at exhalation normal 35 - 45 mmHg (mm Hg) = REMOVED missing too much data\n",
    "                # labs\n",
    "              'BaseExcess', # strong acid to restore pH (mmoI/L)\n",
    "              'Magnesium', # symptoms such as weakness, irritability, cardiac arrhythmia, nausea, and/or diarrhea (mmoI/L)\n",
    "              'Glucose', # blood sugar test (indicates diagnose diabetes, pre-diabetes and gestational diabetes) (mg/dL)\n",
    "              'Alkalinephos', # Alkaline phosphatase (indicates enzyme activity) (IU/L)\n",
    "              'pH', # 0:14 = acidic = lower pH; alkaline = higher\n",
    "              'Chloride', # an electrolyte to balance fluid in cells normal 96-103 ml (indicates blood pressure/pH) (mmoI/L)\n",
    "              'Lactate', # high levels indicate lack of oxygen (hypoxia) or other conditions (indicates sepsis) (mg/dL)\n",
    "              # Respiratory\n",
    "              'HCO3', # Bicarbonate, carbon dioxide in blood (indicates metabolism / resp) (mmoI/L)\n",
    "              'FiO2', # % of concentration of oxygen inhaled (indicates resp) (%) - REMOVED missing too much data\n",
    "              'PaCO2', # partial pressure of carbon dioxide measured in blood (indicates resp) (mm Hg)\n",
    "              'SaO2', # normal 95-100% oxygen saturation bound to hemoglobin (indicates resp) (%) = REMOVED no correlation\n",
    "              # liver\n",
    "              'AST', # aspartate aminotransferase (indicates liver) (IU/L)\n",
    "              'Bilirubin_direct', # conjugated water soluble (indicates liver) (mg/dL) = REMOVED missing too much data\n",
    "              'Bilirubin_total', # normal 0.1:1.2 mg/dL (indicates liver) (mg/dL)\n",
    "              # kidneys\n",
    "              'BUN', # blood urea nitrogen, nitrogen in the blood (indicates kidneys) (mg/dL)\n",
    "              'Creatinine', # metabolic panel (indicates kidneys) (mg/dL)\n",
    "              'Calcium', # indicates range of conditions bones, heart, nerves, kidneys, and teeth (mg/dL)\n",
    "              'Phosphate', # related to calcium (indicates kidney or diabetes)  (mg/dL)\n",
    "              'Potassium', # electrolyte or metabolism (affected by blood pressure, kidneys, etc.)  (mmoI/L)\n",
    "              # Heart\n",
    "              'TroponinI', # cardiac specific Trenonin I and T (indicates injury to heart muscle) = REMOVED missing too much data\n",
    "              # Blood\n",
    "              'Hct', # Hematocrit (indicates portion of blood from Red Blood Cell count) (%)\n",
    "              'Hgb', # Hemoglobin apart of Complete Blood Count (CBC) (indicates blood cell count) (g/dL)\n",
    "              'WBC', # White Blood Cell Count (indicates infection, inflammation or disease) (count10^3/µL)\n",
    "              'PTT', # Partial Thromboplastin Time (indicates bleeding or blood clot) (seconds)\n",
    "              'Fibrinogen', # coagulation factor I (indicates bleeding or blood clot or cardiovascular disease) (mg/dL) = REMOVED missing too much data\n",
    "              'Platelets', # indicates bleeding disorder, a bone marrow disease, or other underlying condition ((count10^3/µL))\n",
    "              # Demographics\n",
    "              #'Age', # Years (100 for patients 90 or above)\n",
    "              #'Gender', # Female = 0, Male = 1\n",
    "              #'HospAdmTime', # Hours between hospital admit and ICU admit = REMOVED no corrleation\n",
    "              #'ICULOS' # ICU length of stay in hours (hours since ICU admit)\n",
    "            ]\n",
    "corr_matrix = data[corr_features].corr()\n",
    "\n",
    "mask = np.zeros_like(corr_matrix)\n",
    "mask[np.triu_indices_from(mask)] = True\n",
    "plt.figure(figsize=(26,22))\n",
    "sns.heatmap(corr_matrix, mask=mask, square=True, annot=True, fmt=\".2f\", center=0, linewidths=.5, cmap=\"RdBu\")"
   ]
  },
  {
   "cell_type": "markdown",
   "metadata": {
    "collapsed": false,
    "pycharm": {
     "name": "#%% md\n"
    }
   },
   "source": [
    "## Correlation matrix\n",
    "- performing standard correlation coefficient (Pearson's)\n",
    "between every pair of attributes using corr() method\n",
    "- helps identify linear patterns if x goes up, y goes up\n",
    "- values range from -1 to 1\n",
    "- closer to 1 means strong positive correlation\n",
    "- closer to 0 means no linear correlation\n",
    "- closer to -1 means strong negative correlation"
   ]
  },
  {
   "cell_type": "code",
   "execution_count": null,
   "metadata": {
    "collapsed": false,
    "pycharm": {
     "name": "#%%\n"
    }
   },
   "outputs": [],
   "source": [
    "corr_matrix = data.corr()\n",
    "corr_matrix[\"isSepsis\"].sort_values(ascending=False)"
   ]
  },
  {
   "cell_type": "markdown",
   "metadata": {
    "collapsed": false,
    "pycharm": {
     "name": "#%% md\n"
    }
   },
   "source": [
    "# What should be kept for feature engineering?\n",
    "\n",
    "Recommend:\n",
    "try training of just vitals with the label\n",
    "\n",
    "fill or drop columns with fewer  than 7k entries\n",
    "    1. drop Bilirubin_direct\n",
    "    1. drop TroponinI\n",
    "    1. fill EtCO2\n",
    "    1. fill Fibrinogen\n",
    "    1. fill Lactate\n",
    "    1. fill SaO2\n",
    "    1. fill FiO2\n",
    "\n",
    "median imputer for null values > 7k entries\n",
    "    1.\n",
    "\n",
    "scale columns > 7k entries\n",
    "    1.\n",
    "\n",
    "drop non-biological markers\n",
    "    1. Age\n",
    "    1. Gender\n",
    "    1. Unit1\n",
    "    1. Unit2\n",
    "    1. HosAdmTime\n",
    "    1. ICULOS\n"
   ]
  }
 ],
 "metadata": {
  "kernelspec": {
   "display_name": "Python 3",
   "language": "python",
   "name": "python3"
  },
  "language_info": {
   "codemirror_mode": {
    "name": "ipython",
    "version": 3
   },
   "file_extension": ".py",
   "mimetype": "text/x-python",
   "name": "python",
   "nbconvert_exporter": "python",
   "pygments_lexer": "ipython3",
   "version": "3.10.9"
  },
  "vscode": {
   "interpreter": {
    "hash": "aee8b7b246df8f9039afb4144a1f6fd8d2ca17a180786b69acc140d282b71a49"
   }
  }
 },
 "nbformat": 4,
 "nbformat_minor": 0
}
